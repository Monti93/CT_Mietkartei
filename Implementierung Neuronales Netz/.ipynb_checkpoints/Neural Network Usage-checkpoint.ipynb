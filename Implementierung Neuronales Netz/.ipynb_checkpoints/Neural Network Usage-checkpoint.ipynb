{
 "cells": [
  {
   "cell_type": "code",
   "execution_count": 1,
   "metadata": {},
   "outputs": [],
   "source": [
    "import tensorflow as tf    \n",
    "import numpy as np\n",
    "import re"
   ]
  },
  {
   "cell_type": "code",
   "execution_count": 2,
   "metadata": {},
   "outputs": [
    {
     "name": "stdout",
     "output_type": "stream",
     "text": [
      "INFO:tensorflow:Restoring parameters from checkpoints/test/neural_network_model.ckpt\n"
     ]
    }
   ],
   "source": [
    "graph = tf.get_default_graph()\n",
    "sess = tf.Session()\n",
    "tf.train.import_meta_graph('checkpoints/test/neural_network_model.ckpt.meta').restore(sess, tf.train.latest_checkpoint('checkpoints/test/'))\n",
    "Y_one_hot = graph.get_tensor_by_name(\"Y_one_hot:0\")\n",
    "Y = graph.get_tensor_by_name(\"Y:0\")\n",
    "X = graph.get_tensor_by_name(\"X:0\")\n",
    "prob_keep = graph.get_tensor_by_name(\"prob_keep:0\")"
   ]
  },
  {
   "cell_type": "code",
   "execution_count": 3,
   "metadata": {},
   "outputs": [],
   "source": [
    "# helper function that transforms all monthly costs into a number\n",
    "def transformCosts(rentalFee, additionalCosts):\n",
    "    fee      = re.search('([0-9]*)-([0-9]*)', rentalFee) # extract the two numbers in range of rentalFee i.e. \"251-300\" ==> 251 and 300\n",
    "    addCosts = re.search('(unter |ueber |[0-9]*)-?([0-9]*)', additionalCosts) # extract the two numbers or the single number of additional costs i.e. \"50-100\" ==> 50 and 100 or \"unter 50\" ==> 50\n",
    "    \n",
    "    # compute the middle between those two numbers or simply take the only given number if only one exists\n",
    "    midFee = (int(fee.group(1)) + int(fee.group(2))) / 2\n",
    "    try:\n",
    "        # works if both groups are numbers\n",
    "        midAddCosts = (int(addCosts.group(1)) + int(addCosts.group(2))) / 2\n",
    "    except ValueError:\n",
    "        # happens if first group is no number\n",
    "        midAddCosts = int(addCosts.group(2))\n",
    "    return midFee + midAddCosts\n",
    "\n",
    "# helper function that transforms the range of square meters to the mid number\n",
    "def transformSquareMeter(squareMeter):\n",
    "    # works similar to additional cost extraction in transformCosts()\n",
    "    sm = re.search('(bis |ueber |[0-9]*)-?([0-9]*)', squareMeter)\n",
    "    try:\n",
    "        return (int(sm.group(1)) + int(sm.group(2))) / 2\n",
    "    except ValueError:\n",
    "        return int(sm.group(2))\n",
    "    \n",
    "# helper function to perform min-max scaling of features\n",
    "def scaleFeatures(features):\n",
    "    # min-max values taken from scaling computations of training script\n",
    "    min = np.array([275.5,20.]) \n",
    "    max = np.array([1275.5,120.]) \n",
    "    for attr in range(min.shape[0]):\n",
    "        features[attr] = (features[attr] - min[attr]) / (max[attr] - min[attr]) # scale each feature based on min-max normalization\n",
    "    return features\n",
    "    \n",
    "def getTransformedFeaturArray(rentalFee, additionalCosts, squareMeter):\n",
    "    return scaleFeatures(np.array([transformCosts(rentalFee, additionalCosts), transformSquareMeter(squareMeter)], ))"
   ]
  },
  {
   "cell_type": "code",
   "execution_count": null,
   "metadata": {},
   "outputs": [],
   "source": [
    "X_ = getTransformedFeaturArray(\"251-300\", \"50-100\", \"20-30\")\n",
    "X_.shape = (1,2)\n",
    "prob, pred_class = sess.run([Y, Y_one_hot], {X: X_, prob_keep: 1.0})\n",
    "print(\"predicted class: {} with propability of {}%\".format(pred_class[0], prob[0, pred_class[0]]*100))"
   ]
  }
 ],
 "metadata": {
  "kernelspec": {
   "display_name": "Python 3",
   "language": "python",
   "name": "python3"
  },
  "language_info": {
   "codemirror_mode": {
    "name": "ipython",
    "version": 3
   },
   "file_extension": ".py",
   "mimetype": "text/x-python",
   "name": "python",
   "nbconvert_exporter": "python",
   "pygments_lexer": "ipython3",
   "version": "3.6.6"
  }
 },
 "nbformat": 4,
 "nbformat_minor": 2
}
